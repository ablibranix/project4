{
 "cells": [
  {
   "cell_type": "code",
   "execution_count": null,
   "metadata": {
    "id": "w5mztJHUohBq"
   },
   "outputs": [],
   "source": [
    "import pandas as pd\n",
    "import numpy as np\n",
    "from sklearn.neighbors import NearestNeighbors\n",
    "import random\n",
    "import matplotlib.pyplot as plt"
   ]
  },
  {
   "cell_type": "markdown",
   "metadata": {
    "id": "AaYg7tWbSrMu"
   },
   "source": [
    "# Part I"
   ]
  },
  {
   "cell_type": "code",
   "execution_count": null,
   "metadata": {
    "colab": {
     "base_uri": "https://localhost:8080/",
     "height": 424
    },
    "id": "l5aBI4UcqWTP",
    "outputId": "dff297bc-ec9a-47d6-b008-79ffcb5aab28"
   },
   "outputs": [],
   "source": [
    "df = pd.read_csv('cleveland.csv')\n",
    "df"
   ]
  },
  {
   "cell_type": "markdown",
   "metadata": {
    "id": "vmHhInH7ohBu"
   },
   "source": [
    "## Explore the data"
   ]
  },
  {
   "cell_type": "code",
   "execution_count": null,
   "metadata": {
    "colab": {
     "base_uri": "https://localhost:8080/",
     "height": 424
    },
    "id": "5aCpdrS-ohBv",
    "outputId": "92ce514c-ed48-4362-cfcf-dbf53c7854c4"
   },
   "outputs": [],
   "source": [
    "# Rename 'num' column to 'disease' and change 1,2,3,4 to 1\n",
    "df = df.rename({'num':'disease'}, axis=1)\n",
    "df"
   ]
  },
  {
   "cell_type": "code",
   "execution_count": null,
   "metadata": {
    "colab": {
     "base_uri": "https://localhost:8080/",
     "height": 241
    },
    "id": "Myw6X2JFohBw",
    "outputId": "176e286b-b809-4b15-900c-865cb38bdcbc"
   },
   "outputs": [],
   "source": [
    "df['disease'] = df.disease.apply(lambda x: min(x, 1))\n",
    "display(df.head(5))\n",
    "\n",
    "print(len(df[df['disease']==1]))\n",
    "print(len(df[df['disease']==0]))"
   ]
  },
  {
   "cell_type": "code",
   "execution_count": null,
   "metadata": {
    "colab": {
     "base_uri": "https://localhost:8080/",
     "height": 295
    },
    "id": "dr-H1KmYHGqg",
    "outputId": "7492c1dc-4b6b-40b9-d0f4-5b10fe4c0d9a"
   },
   "outputs": [],
   "source": [
    "# Plot histograms\n",
    "fig, (ax1, ax2) = plt.subplots(2, 1)\n",
    "# make a little extra space between the subplots\n",
    "fig.subplots_adjust(hspace=0.5)\n",
    "\n",
    "ax1.hist(df[df.disease == 0].age);\n",
    "ax1.set_xlabel('age');\n",
    "ax1.set_ylabel('number of patients');\n",
    "ax1.set_xlim(20, 100);\n",
    "ax1.set_ylim(0, 70);\n",
    "ax1.set_title('healthy');\n",
    "\n",
    "ax2.hist(df[df.disease == 1].age, color='orange');\n",
    "ax2.set_xlabel('age');\n",
    "ax2.set_ylabel('number of patients');\n",
    "ax2.set_xlim(20, 100);\n",
    "ax2.set_ylim(0, 70);\n",
    "ax2.set_title('has heart disease');\n",
    "plt.savefig('partI-age.pdf')"
   ]
  },
  {
   "cell_type": "code",
   "execution_count": null,
   "metadata": {
    "colab": {
     "base_uri": "https://localhost:8080/",
     "height": 295
    },
    "id": "MbOuqulSohBx",
    "outputId": "4258608f-9828-46fb-ba3d-f50f07dde6cf"
   },
   "outputs": [],
   "source": [
    "# Plot histograms\n",
    "fig, (ax1, ax2) = plt.subplots(2, 1)\n",
    "# make a little extra space between the subplots\n",
    "fig.subplots_adjust(hspace=0.5)\n",
    "\n",
    "ax1.hist(df[df.disease == 0].chol);\n",
    "ax1.set_xlabel('chol');\n",
    "ax1.set_ylabel('number of patients');\n",
    "ax1.set_xlim(50, 500);\n",
    "ax1.set_ylim(0, 70);\n",
    "ax1.set_title('healthy');\n",
    "\n",
    "ax2.hist(df[df.disease == 1].chol, color='orange');\n",
    "ax2.set_xlabel('chol');\n",
    "ax2.set_ylabel('number of patients');\n",
    "ax2.set_xlim(50, 500);\n",
    "ax2.set_ylim(0, 70);\n",
    "ax2.set_title('has heart disease');\n",
    "plt.savefig('partI-chol.pdf')"
   ]
  },
  {
   "cell_type": "code",
   "execution_count": null,
   "metadata": {
    "colab": {
     "base_uri": "https://localhost:8080/",
     "height": 295
    },
    "id": "eshpcvdNohBy",
    "outputId": "8e8cc862-4e14-4ed3-eb6a-ad928b8ce9e8"
   },
   "outputs": [],
   "source": [
    "# Plot histograms\n",
    "fig, (ax1, ax2) = plt.subplots(2, 1)\n",
    "# make a little extra space between the subplots\n",
    "fig.subplots_adjust(hspace=0.5)\n",
    "\n",
    "ax1.hist(df[df.disease == 0].trestbps);\n",
    "ax1.set_xlabel('trestbps');\n",
    "ax1.set_ylabel('number of patients');\n",
    "ax1.set_xlim(50, 500);\n",
    "ax1.set_ylim(0, 70);\n",
    "ax1.set_title('healthy');\n",
    "\n",
    "ax2.hist(df[df.disease == 1].trestbps, color='orange');\n",
    "ax2.set_xlabel('trestbps');\n",
    "ax2.set_ylabel('number of patients');\n",
    "ax2.set_xlim(50, 500);\n",
    "ax2.set_ylim(0, 70);\n",
    "ax2.set_title('has heart disease');\n",
    "\n",
    "plt.savefig('partI-trestbps.pdf')"
   ]
  },
  {
   "cell_type": "code",
   "execution_count": null,
   "metadata": {
    "colab": {
     "base_uri": "https://localhost:8080/",
     "height": 295
    },
    "id": "aTOIq1bDohBz",
    "outputId": "d210fba1-7b0a-4937-c3f6-e12164f5eef8"
   },
   "outputs": [],
   "source": [
    "# Plot histograms\n",
    "fig, (ax1, ax2) = plt.subplots(2, 1)\n",
    "# make a little extra space between the subplots\n",
    "fig.subplots_adjust(hspace=0.5)\n",
    "\n",
    "ax1.hist(df[df.disease == 0].cp);\n",
    "ax1.set_xlabel('cp');\n",
    "ax1.set_ylabel('number of patients');\n",
    "ax1.set_xlim(0, 5);\n",
    "ax1.set_title('healthy');\n",
    "\n",
    "ax2.hist(df[df.disease == 1].cp, color='orange');\n",
    "ax2.set_xlabel('cp');\n",
    "ax2.set_ylabel('number of patients');\n",
    "ax2.set_xlim(0, 5);\n",
    "ax2.set_title('has heart disease');"
   ]
  },
  {
   "cell_type": "code",
   "execution_count": null,
   "metadata": {
    "colab": {
     "base_uri": "https://localhost:8080/",
     "height": 347
    },
    "id": "Pler8A6cohB0",
    "outputId": "857b988c-466c-49a6-dceb-8e845f5f6364"
   },
   "outputs": [],
   "source": [
    "# Plot histograms\n",
    "fig, (ax1, ax2) = plt.subplots(2, 1)\n",
    "# make a little extra space between the subplots\n",
    "fig.subplots_adjust(hspace=0.7)\n",
    "\n",
    "ax1.hist(df[df.disease == 0].sex);\n",
    "ax1.set_xlabel('sex');\n",
    "ax1.set_ylabel('number of patients');\n",
    "ax1.set_ylim(0, 120);\n",
    "ax1.set_title('healthy');\n",
    "\n",
    "ax2.hist(df[df.disease == 1].sex, color='orange');\n",
    "ax2.set_xlabel('sex');\n",
    "ax2.set_ylabel('number of patients');\n",
    "ax2.set_ylim(0, 120);\n",
    "ax2.set_title('has heart disease');\n",
    "\n",
    "#Used to reduce space between bars\n",
    "plt.xticks([0, 1], ['0', '1'])"
   ]
  },
  {
   "cell_type": "code",
   "execution_count": null,
   "metadata": {
    "colab": {
     "base_uri": "https://localhost:8080/",
     "height": 295
    },
    "id": "cZ9nqYthohB1",
    "outputId": "74285037-134c-4a3e-fff6-5ec2ec6d846a"
   },
   "outputs": [],
   "source": [
    "# Plot histograms\n",
    "fig, (ax1, ax2) = plt.subplots(2, 1)\n",
    "# make a little extra space between the subplots\n",
    "fig.subplots_adjust(hspace=0.5)\n",
    "\n",
    "ax1.hist((df[df.disease == 0].thalach));\n",
    "ax1.set_xlabel('thalach');\n",
    "ax1.set_ylabel('number of patients');\n",
    "ax1.set_title('healthy');\n",
    "\n",
    "ax2.hist(df[df.disease == 1].thalach, color='orange');\n",
    "ax2.set_xlabel('thalach');\n",
    "ax2.set_ylabel('number of patients');\n",
    "ax2.set_title('has heart disease');\n",
    "plt.savefig('partI-thalach.pdf')"
   ]
  },
  {
   "cell_type": "code",
   "execution_count": null,
   "metadata": {
    "colab": {
     "base_uri": "https://localhost:8080/"
    },
    "id": "P_GnEnCqohB2",
    "outputId": "cf7ea08a-8aed-4ac3-af9c-f98111430d40"
   },
   "outputs": [],
   "source": [
    "print('The number of people who have heart disease is',len(df[df['disease']==1]),'which is', len(df[df['disease']==1])/len(df), 'percentage of the dataset')\n",
    "print('The number of people without heart disease is',len(df[df['disease']==0]),'which is',len(df[df['disease']==0])/len(df), 'percentage of the dataset')\n",
    "print('Total amount of people is', len(df))"
   ]
  },
  {
   "cell_type": "code",
   "execution_count": null,
   "metadata": {
    "colab": {
     "base_uri": "https://localhost:8080/",
     "height": 295
    },
    "id": "Vtru245hohB2",
    "outputId": "1e2d9463-8f36-441c-d279-4bcb9c626121"
   },
   "outputs": [],
   "source": [
    "# Plot histograms\n",
    "fig, (ax1, ax2) = plt.subplots(2, 1)\n",
    "# make a little extra space between the subplots\n",
    "fig.subplots_adjust(hspace=0.5)\n",
    "\n",
    "ax1.hist((df[df.disease == 0].fbs));\n",
    "ax1.set_xlabel('fbs');\n",
    "ax1.set_ylabel('number of patients');\n",
    "ax1.set_title('healthy');\n",
    "\n",
    "ax2.hist(df[df.disease == 1].fbs, color='orange');\n",
    "ax2.set_xlabel('fbs');\n",
    "ax2.set_ylabel('number of patients');\n",
    "ax2.set_title('has heart disease');"
   ]
  },
  {
   "cell_type": "code",
   "execution_count": null,
   "metadata": {
    "colab": {
     "base_uri": "https://localhost:8080/",
     "height": 295
    },
    "id": "ELgqNUisohB3",
    "outputId": "cd3e01ce-f715-4fc1-a4fc-6a4443d799f8"
   },
   "outputs": [],
   "source": [
    "# Plot histograms\n",
    "fig, (ax1, ax2) = plt.subplots(2, 1)\n",
    "# make a little extra space between the subplots\n",
    "fig.subplots_adjust(hspace=0.5)\n",
    "\n",
    "ax1.hist((df[df.disease == 0].restecg));\n",
    "ax1.set_xlabel('restecg');\n",
    "ax1.set_ylabel('number of patients');\n",
    "ax1.set_ylim(0, 100);\n",
    "ax1.set_title('healthy');\n",
    "\n",
    "ax2.hist(df[df.disease == 1].restecg, color='orange');\n",
    "ax2.set_xlabel('restecg');\n",
    "ax2.set_ylabel('number of patients');\n",
    "ax2.set_ylim(0, 100);\n",
    "ax2.set_title('has heart disease');"
   ]
  },
  {
   "cell_type": "code",
   "execution_count": null,
   "metadata": {
    "colab": {
     "base_uri": "https://localhost:8080/",
     "height": 295
    },
    "id": "28j1eyy2ohB3",
    "outputId": "69b3d239-9442-444d-fee9-a90a1c400769"
   },
   "outputs": [],
   "source": [
    "# Plot histograms\n",
    "fig, (ax1, ax2) = plt.subplots(2, 1)\n",
    "# make a little extra space between the subplots\n",
    "fig.subplots_adjust(hspace=0.5)\n",
    "\n",
    "ax1.hist((df[df.disease == 0].exang));\n",
    "ax1.set_xlabel('exang');\n",
    "ax1.set_ylabel('number of patients');\n",
    "ax1.set_title('healthy');\n",
    "\n",
    "ax2.hist(df[df.disease == 1].exang, color='orange');\n",
    "ax2.set_xlabel('exang');\n",
    "ax2.set_ylabel('number of patients');\n",
    "ax2.set_ylim(0, 110);\n",
    "ax2.set_title('has heart disease');"
   ]
  },
  {
   "cell_type": "code",
   "execution_count": null,
   "metadata": {
    "colab": {
     "base_uri": "https://localhost:8080/",
     "height": 295
    },
    "id": "XgzeEZM3ohB4",
    "outputId": "689d9e3d-9dbf-498e-d656-8640a272c00d"
   },
   "outputs": [],
   "source": [
    "# Plot histograms\n",
    "fig, (ax1, ax2) = plt.subplots(2, 1)\n",
    "# make a little extra space between the subplots\n",
    "fig.subplots_adjust(hspace=0.5)\n",
    "\n",
    "ax1.hist((df[df.disease == 0].oldpeak));\n",
    "ax1.set_xlabel('oldpeak');\n",
    "ax1.set_ylabel('number of patients');\n",
    "ax1.set_title('healthy');\n",
    "\n",
    "ax2.hist(df[df.disease == 1].oldpeak, color='orange');\n",
    "ax2.set_xlabel('oldpeak');\n",
    "ax2.set_ylabel('number of patients');;\n",
    "ax2.set_ylim(0, 110);\n",
    "ax2.set_title('has heart disease');"
   ]
  },
  {
   "cell_type": "code",
   "execution_count": null,
   "metadata": {
    "colab": {
     "base_uri": "https://localhost:8080/",
     "height": 295
    },
    "id": "xSZ7ipf0ohB4",
    "outputId": "927213b0-e478-48b8-deed-eae905cbe553"
   },
   "outputs": [],
   "source": [
    "# Plot histograms\n",
    "fig, (ax1, ax2) = plt.subplots(2, 1)\n",
    "# make a little extra space between the subplots\n",
    "fig.subplots_adjust(hspace=0.5)\n",
    "\n",
    "ax1.hist((df[df.disease == 0].slope));\n",
    "ax1.set_xlabel('slope');\n",
    "ax1.set_ylabel('number of patients');\n",
    "ax1.set_title('healthy');\n",
    "\n",
    "ax2.hist(df[df.disease == 1].slope, color='orange');\n",
    "ax2.set_xlabel('slope');\n",
    "ax2.set_ylabel('number of patients');\n",
    "ax2.set_ylim(0, 110);\n",
    "ax2.set_title('has heart disease');"
   ]
  },
  {
   "cell_type": "code",
   "execution_count": null,
   "metadata": {
    "colab": {
     "base_uri": "https://localhost:8080/",
     "height": 424
    },
    "id": "EeusMDODohB5",
    "outputId": "610b3cc7-a5d4-4774-8900-a9aa81cc5ba3"
   },
   "outputs": [],
   "source": [
    "df=df.dropna()\n",
    "df\n",
    "df[~(df['ca']=='?')]"
   ]
  },
  {
   "cell_type": "code",
   "execution_count": null,
   "metadata": {
    "id": "vkF_jaMPohB5"
   },
   "outputs": [],
   "source": [
    "df['ca'] = df['ca'].str.replace('?', '',regex=True)\n",
    "df=df.dropna()"
   ]
  },
  {
   "cell_type": "code",
   "execution_count": null,
   "metadata": {
    "colab": {
     "base_uri": "https://localhost:8080/",
     "height": 295
    },
    "id": "HCGOs71LohB6",
    "outputId": "b66d5101-af1e-475c-fc67-f9fe95846943"
   },
   "outputs": [],
   "source": [
    "# Plot histograms\n",
    "fig, (ax1, ax2) = plt.subplots(2, 1)\n",
    "# make a little extra space between the subplots\n",
    "fig.subplots_adjust(hspace=0.75)\n",
    "\n",
    "ax1.hist((df[df.disease == 0].ca));\n",
    "ax1.set_xlabel('ca');\n",
    "ax1.set_ylabel('number of patients');\n",
    "ax1.set_title('healthy');\n",
    "\n",
    "ax2.hist(df[df.disease == 1].ca, color='orange');\n",
    "ax2.set_xlabel('ca');\n",
    "ax2.set_ylabel('number of patients');\n",
    "ax2.set_title('has heart disease');"
   ]
  },
  {
   "cell_type": "markdown",
   "metadata": {
    "id": "zBdQ_OFYohB7"
   },
   "source": [
    "## Multiple Dimensions\n",
    "\n",
    "Data is standarized"
   ]
  },
  {
   "cell_type": "code",
   "execution_count": null,
   "metadata": {
    "id": "I6E4ripgBKue"
   },
   "outputs": [],
   "source": [
    "#standardized variables\n",
    "df['age'] = (df.age-df.age.mean())/df.age.std()\n",
    "df['chol'] = (df.chol-df.chol.mean())/df.chol.std()\n",
    "df['trestbps'] = (df.trestbps-df.trestbps.mean())/df.trestbps.std()\n",
    "df['thalach'] = (df.thalach-df.thalach.mean())/df.thalach.std()"
   ]
  },
  {
   "cell_type": "code",
   "execution_count": null,
   "metadata": {
    "id": "8TB7yRP9jF4T"
   },
   "outputs": [],
   "source": [
    "X = df[['age', 'trestbps','chol']].values\n",
    "print(X[0])\n",
    "print(X[1])\n",
    "X"
   ]
  },
  {
   "cell_type": "code",
   "execution_count": null,
   "metadata": {
    "id": "qz1lfJIfjUKQ"
   },
   "outputs": [],
   "source": [
    "y = df[['disease']].values\n",
    "y"
   ]
  },
  {
   "cell_type": "code",
   "execution_count": null,
   "metadata": {
    "colab": {
     "base_uri": "https://localhost:8080/"
    },
    "id": "TNTQ2NKjkd-y",
    "outputId": "46900a12-5da8-4d04-8985-c957a9dffb04"
   },
   "outputs": [],
   "source": [
    "# create a nearest neighbors object.\n",
    "nn = NearestNeighbors(n_neighbors=7, metric='euclidean', algorithm='auto')\n",
    "print(nn)"
   ]
  },
  {
   "cell_type": "code",
   "execution_count": null,
   "metadata": {
    "colab": {
     "base_uri": "https://localhost:8080/"
    },
    "id": "6vZ6LdOQkNr1",
    "outputId": "170fac71-1a1d-4ab8-d30f-90870956151d"
   },
   "outputs": [],
   "source": [
    "# This builds an index data structure under the hood for query performance\n",
    "fit = nn.fit(X)\n",
    "fit"
   ]
  },
  {
   "cell_type": "code",
   "execution_count": null,
   "metadata": {
    "colab": {
     "base_uri": "https://localhost:8080/"
    },
    "id": "Gvixf2wsl0f7",
    "outputId": "eac97199-5189-4f4f-a2f1-32fc72eabba7"
   },
   "outputs": [],
   "source": [
    "# Get a random patient to test on\n",
    "i = random.randint(0,len(X)-1)\n",
    "i"
   ]
  },
  {
   "cell_type": "code",
   "execution_count": null,
   "metadata": {
    "colab": {
     "base_uri": "https://localhost:8080/"
    },
    "id": "2P0gwpRemRle",
    "outputId": "64e86463-cd0c-425d-ab32-848cca1e21ea"
   },
   "outputs": [],
   "source": [
    "# finding the age and trestbps for random i , for first row the i=0, second i=1 , ...\n",
    "patientX = X[i]\n",
    "patientX"
   ]
  },
  {
   "cell_type": "code",
   "execution_count": null,
   "metadata": {
    "colab": {
     "base_uri": "https://localhost:8080/"
    },
    "id": "1lhVK0mnnUTp",
    "outputId": "f2c257f2-3c14-417a-b39c-7ef9f8f43b1a"
   },
   "outputs": [],
   "source": [
    "# finding whether the random i row has heart disease or not(0 or 1)\n",
    "patienty = y[i]\n",
    "patienty"
   ]
  },
  {
   "cell_type": "code",
   "execution_count": null,
   "metadata": {
    "colab": {
     "base_uri": "https://localhost:8080/",
     "height": 277
    },
    "id": "L2cvkluBlg2O",
    "outputId": "6b7b3f82-a598-4da9-fa49-752d9c838ec8"
   },
   "outputs": [],
   "source": [
    "# display all variables for rows i in data frame \n",
    "display(df.iloc[i])"
   ]
  },
  {
   "cell_type": "code",
   "execution_count": null,
   "metadata": {
    "colab": {
     "base_uri": "https://localhost:8080/"
    },
    "id": "_cnScUOpohB8",
    "outputId": "bb3bd9d3-6c46-4b3a-d594-598e8121f09a"
   },
   "outputs": [],
   "source": [
    "# Find the k nearest neighbors to the patient. Problem: the patient\n",
    "# itself will be found in the list of neighbors!\n",
    "distances, indices = fit.kneighbors([patientX])\n",
    "print('distances=', distances, 'indices=', indices)"
   ]
  },
  {
   "cell_type": "code",
   "execution_count": null,
   "metadata": {
    "colab": {
     "base_uri": "https://localhost:8080/",
     "height": 333
    },
    "id": "pE8o43XPo6mv",
    "outputId": "96dbd390-e1e3-485d-a2fa-27b0171ac020"
   },
   "outputs": [],
   "source": [
    "df.iloc[indices[0]]"
   ]
  },
  {
   "cell_type": "code",
   "execution_count": null,
   "metadata": {
    "colab": {
     "base_uri": "https://localhost:8080/",
     "height": 333
    },
    "id": "DuNJVpvfpCLI",
    "outputId": "57041810-383a-492a-83ab-e967c4c99693"
   },
   "outputs": [],
   "source": [
    "nbrs = df.iloc[indices[0]]\n",
    "display(nbrs)"
   ]
  },
  {
   "cell_type": "code",
   "execution_count": null,
   "metadata": {
    "colab": {
     "base_uri": "https://localhost:8080/"
    },
    "id": "vvDGfLQ4pyIV",
    "outputId": "219c83a4-b2c9-4f71-8544-c477d822478c"
   },
   "outputs": [],
   "source": [
    "healthy = nbrs[nbrs.disease == 0].count().disease\n",
    "sick = nbrs[nbrs.disease == 1].count().disease\n",
    "print('healthy: {}\\nsick: {}'.format(healthy, sick))"
   ]
  },
  {
   "cell_type": "code",
   "execution_count": null,
   "metadata": {
    "colab": {
     "base_uri": "https://localhost:8080/"
    },
    "id": "gZbUWhfxonYy",
    "outputId": "a420a684-9482-46f8-a9b0-dcec147ecc9e"
   },
   "outputs": [],
   "source": [
    "predict = 0 if (healthy > sick) else 1\n",
    "actual = 0 if (patienty == 0) else 1\n",
    "success = predict == actual\n",
    "print(success)"
   ]
  },
  {
   "cell_type": "markdown",
   "metadata": {
    "id": "doHntjdJohB8"
   },
   "source": [
    "## Performing Multiple Tests"
   ]
  },
  {
   "cell_type": "code",
   "execution_count": null,
   "metadata": {
    "id": "eeXOwHlSOQHA"
   },
   "outputs": [],
   "source": [
    "X = df[['age', 'trestbps']].values\n",
    "X"
   ]
  },
  {
   "cell_type": "code",
   "execution_count": null,
   "metadata": {
    "id": "K-ejxEZTMumd"
   },
   "outputs": [],
   "source": [
    "y = df[['disease']].values\n",
    "# This builds an index data structure under the hood for query performance\n",
    "fit = nn.fit(X)"
   ]
  },
  {
   "cell_type": "code",
   "execution_count": null,
   "metadata": {
    "colab": {
     "base_uri": "https://localhost:8080/"
    },
    "id": "uvxNg9kMMu_V",
    "outputId": "1d41778f-0774-4fd9-df64-3edb87c1ccec"
   },
   "outputs": [],
   "source": [
    "# Get random patients to test on\n",
    "n = 7\n",
    "pindices = [random.randint(0,len(X)-1) for _ in range(n)]\n",
    "pindices"
   ]
  },
  {
   "cell_type": "code",
   "execution_count": null,
   "metadata": {
    "colab": {
     "base_uri": "https://localhost:8080/"
    },
    "id": "wQBzdvAyMvYK",
    "outputId": "9fc0889c-5573-4ed0-b80f-7aa1c6a10ced"
   },
   "outputs": [],
   "source": [
    "# call row of x, x has two information, age and tresbps\n",
    "patientsX = X[pindices]\n",
    "patientsX"
   ]
  },
  {
   "cell_type": "code",
   "execution_count": null,
   "metadata": {
    "colab": {
     "base_uri": "https://localhost:8080/"
    },
    "id": "iEPWvUFkN7Fo",
    "outputId": "fca1f40b-5ce2-4b72-8ea3-29ca528b7ff3"
   },
   "outputs": [],
   "source": [
    "#patientsy contain 0 or 1, having heart dieases or not\n",
    "patientsy = y[pindices]\n",
    "patientsy"
   ]
  },
  {
   "cell_type": "code",
   "execution_count": null,
   "metadata": {
    "colab": {
     "base_uri": "https://localhost:8080/",
     "height": 156
    },
    "id": "PYkWfhTfPx6U",
    "outputId": "dc4f2dd8-d413-4471-9e03-0f994dd3fbe6"
   },
   "outputs": [],
   "source": [
    "# Find the k nearest neighbors to the patient. Problem: we still\n",
    "# have the problem of the patient itself being found!\n",
    "distances, indices = fit.kneighbors(patientsX)\n",
    "print('indices of k-nearest neighbors for each patient(n=7):')\n",
    "display(indices)"
   ]
  },
  {
   "cell_type": "code",
   "execution_count": null,
   "metadata": {
    "id": "TS831ar6ohB8"
   },
   "outputs": [],
   "source": [
    "#n=7 i=0,1,2,3,4,5,6\n",
    "for i in range(n):\n",
    "    print('nearest neighbors to patient: {}:'.format(patientsX[i]))\n",
    "    nbrs = df.iloc[indices[i]]\n",
    "    display(nbrs)"
   ]
  },
  {
   "cell_type": "markdown",
   "metadata": {
    "id": "0N-yuq1vDlV1"
   },
   "source": [
    "### Finding a good value of k"
   ]
  },
  {
   "cell_type": "code",
   "execution_count": null,
   "metadata": {
    "colab": {
     "base_uri": "https://localhost:8080/",
     "height": 280
    },
    "id": "2nuhu9V2DmTS",
    "outputId": "1fe7978e-9bd8-488f-9b3f-f341e964b039"
   },
   "outputs": [],
   "source": [
    "from sklearn.metrics import precision_recall_fscore_support\n",
    "\n",
    "def get_scores(k):\n",
    "  # Use knn on age. First create a nearest neighbors object.\n",
    "  nn = NearestNeighbors(n_neighbors=k, metric='euclidean', algorithm='auto')\n",
    "\n",
    "  # This builds an index data structure under the hood for query performance\n",
    "  X = df[['age', 'trestbps','chol']].values\n",
    "  fit = nn.fit(X)\n",
    "\n",
    "  # Get random patients to test on\n",
    "  n = 50\n",
    "  patients = df.sample(n)\n",
    "  patientsX = patients[['age','trestbps','chol']].values\n",
    "  patientsy = patients[['disease']].values\n",
    "\n",
    "  # Find the k nearest neighbors to the patient.\n",
    "  distances, indices = fit.kneighbors(patientsX)\n",
    "\n",
    "  y_pred = []\n",
    "  for i in range(n):\n",
    "      nbrs = df.iloc[indices[i]]\n",
    "      # Drop the patient of interest\n",
    "      nbrs = nbrs.drop(patients.index[i], errors='ignore')\n",
    "\n",
    "      healthy = nbrs[nbrs.disease == 0].count().disease\n",
    "      sick = nbrs[nbrs.disease == 1].count().disease\n",
    "      predict = 0 if (healthy > sick) else 1\n",
    "      y_pred.append(predict)\n",
    "  return precision_recall_fscore_support(patientsy, y_pred, labels=[1])\n",
    "\n",
    "kvals = range(2, 50)\n",
    "scores = [get_scores(k) for k in kvals]\n",
    "\n",
    "scores = [(p[0], r[0], f[0], s[0]) for (p,r,f,s) in scores]\n",
    "scores = list(zip(*scores))\n",
    "\n",
    "plt.plot(kvals, scores[2])\n",
    "plt.ylabel('Precison, Recall and F1 scores')\n",
    "plt.xlabel('K values')\n",
    "plt.savefig('partI-kvalues.pdf')"
   ]
  },
  {
   "cell_type": "markdown",
   "metadata": {
    "id": "ipt1VbU4ohB9"
   },
   "source": [
    "## Split data into train/test and get precision/recall/f score by cross validation"
   ]
  },
  {
   "cell_type": "code",
   "execution_count": null,
   "metadata": {
    "id": "iiV-t35FNvsQ"
   },
   "outputs": [],
   "source": [
    "#standardized variables\n",
    "df['age'] = (df.age-df.age.mean())/df.age.std()\n",
    "df['chol'] = (df.chol-df.chol.mean())/df.chol.std()\n",
    "df['trestbps'] = (df.trestbps-df.trestbps.mean())/df.trestbps.std()\n",
    "df['thalach'] = (df.thalach-df.thalach.mean())/df.thalach.std()"
   ]
  },
  {
   "cell_type": "code",
   "execution_count": null,
   "metadata": {
    "colab": {
     "base_uri": "https://localhost:8080/"
    },
    "id": "NkKHN7AnJqJy",
    "outputId": "f0531b79-80ad-4dc2-a914-f48cebebabdc"
   },
   "outputs": [],
   "source": [
    "from sklearn.model_selection import train_test_split\n",
    "from sklearn.metrics import precision_recall_fscore_support\n",
    "\n",
    "k = 23\n",
    "nn = NearestNeighbors(n_neighbors=k, metric='euclidean', algorithm='auto')\n",
    "\n",
    "X = df[['age', 'trestbps', 'thalach', 'chol']].values\n",
    "y = df[['disease']].values\n",
    "\n",
    "precision = []\n",
    "recall = []\n",
    "f1 = []\n",
    "support = []\n",
    "\n",
    "for _ in range(20):\n",
    "    # Use random_state if you want the same values each time you run for debugging,\n",
    "    # but you should select the split randomly when you're ready to actually train\n",
    "    # and test on the data.\n",
    "    X_train, X_test, y_train, y_test = train_test_split(X, y, test_size=0.25)#, random_state=42)\n",
    "\n",
    "    # This builds an index data structure under the hood for query performance\n",
    "    fit = nn.fit(X_train)\n",
    "\n",
    "    # Find the k nearest neighbors to the patient.\n",
    "    distances, indices = fit.kneighbors(X_test)\n",
    "\n",
    "    y_pred = []\n",
    "    for i in range(len(X_test)):\n",
    "        positive = y_test[i][0]\n",
    "        nbr_values = y_train[indices[i]]\n",
    "        y_pred.append(0 if sum(nbr_values[:,0]) < k/2 else 1)\n",
    "\n",
    "    (p,r,f,s) = precision_recall_fscore_support(y_test, y_pred)\n",
    "\n",
    "    print(p[0],r[0],f[0],s[0])\n",
    "    precision.append(p[0])\n",
    "    recall.append(r[0])\n",
    "    f1.append(f[0])\n",
    "    support.append(s[0])\n",
    "\n",
    "print('mean of f1 scores=',sum(f1)/len(f1))"
   ]
  },
  {
   "cell_type": "markdown",
   "metadata": {
    "id": "I2LW2W9rP6kO"
   },
   "source": [
    "# Part II"
   ]
  },
  {
   "cell_type": "code",
   "execution_count": null,
   "metadata": {
    "colab": {
     "base_uri": "https://localhost:8080/",
     "height": 522
    },
    "id": "C55c9XCqTKo_",
    "outputId": "8c4b5507-b675-47d6-9566-8d006cd69be1"
   },
   "outputs": [],
   "source": [
    "df = pd.read_csv('winequality-red.csv')\n",
    "df"
   ]
  },
  {
   "cell_type": "code",
   "execution_count": null,
   "metadata": {
    "colab": {
     "base_uri": "https://localhost:8080/",
     "height": 462
    },
    "id": "pz0nDMTrcInN",
    "outputId": "51e365b2-600f-44a6-d4d6-f92ec24d00aa"
   },
   "outputs": [],
   "source": [
    "df['quality'] = (df['quality'] > 5).astype(int)\n",
    "display(df.head(10))"
   ]
  },
  {
   "cell_type": "code",
   "execution_count": null,
   "metadata": {
    "id": "IXiiALIh_Bjb"
   },
   "outputs": [],
   "source": [
    "print('quality level of 6 7 8 =',len(df[df['quality']==1]))\n",
    "print('quality level of 1 2 3 4 5 =',len(df[df['quality']==0]))"
   ]
  },
  {
   "cell_type": "markdown",
   "metadata": {
    "id": "ZPiPIuzj_Jux"
   },
   "source": [
    "Explore the data"
   ]
  },
  {
   "cell_type": "code",
   "execution_count": null,
   "metadata": {
    "id": "4tevE_x9_IPf"
   },
   "outputs": [],
   "source": [
    "#Rename  column \n",
    "df = df.rename({'fixed acidity':'fixed_acidity','volatile acidity':'volatile_acidity','citric acid':'citric_acid','residual sugar':'residual_sugar','free sulfur dioxide':'free_sulfur_dioxide','total sulfur dioxide':'total_sulfur_dioxide'}, axis=1)\n",
    "df.head()"
   ]
  },
  {
   "cell_type": "code",
   "execution_count": null,
   "metadata": {
    "id": "7ldkHZk0_Q1R"
   },
   "outputs": [],
   "source": [
    "# Plot histograms for PH\n",
    "fig, (ax1, ax2) = plt.subplots(2, 1)\n",
    "# make a little extra space between the subplots\n",
    "fig.subplots_adjust(hspace=0.7)\n",
    "\n",
    "ax1.hist(df[df.quality == 0].pH);\n",
    "ax1.set_xlabel('pH');\n",
    "ax1.set_ylabel('number of wine');\n",
    "ax1.set_title('bad wine');\n",
    "\n",
    "ax2.hist(df[df.quality == 1].pH, color='orange');\n",
    "ax2.set_xlabel('pH');\n",
    "ax2.set_ylabel('nnumber of wine');\n",
    "ax2.set_title('good wine');\n",
    "plt.savefig('partII-pH.pdf')"
   ]
  },
  {
   "cell_type": "code",
   "execution_count": null,
   "metadata": {
    "id": "YdLGarqZ_VC3"
   },
   "outputs": [],
   "source": [
    "# Plot histograms for alcohol\n",
    "fig, (ax1, ax2) = plt.subplots(2, 1)\n",
    "# make a little extra space between the subplots\n",
    "fig.subplots_adjust(hspace=0.7)\n",
    "\n",
    "ax1.hist(df[df.quality == 0].alcohol);\n",
    "ax1.set_xlabel('alcohol');\n",
    "ax1.set_ylabel('number of wine');\n",
    "ax1.set_title('bad wine');\n",
    "\n",
    "ax2.hist(df[df.quality == 1].alcohol, color='orange');\n",
    "ax2.set_xlabel('alcohol');\n",
    "ax2.set_ylabel('nnumber of wine');\n",
    "ax2.set_title('good wine');\n",
    "plt.savefig('partII-alcohol.pdf')"
   ]
  },
  {
   "cell_type": "code",
   "execution_count": null,
   "metadata": {
    "id": "SpFT7URx_XaA"
   },
   "outputs": [],
   "source": [
    "# Plot histograms for chlorides\n",
    "fig, (ax1, ax2) = plt.subplots(2, 1)\n",
    "# make a little extra space between the subplots\n",
    "fig.subplots_adjust(hspace=0.7)\n",
    "\n",
    "ax1.hist(df[df.quality == 0].chlorides);\n",
    "ax1.set_xlabel('chlorides');\n",
    "ax1.set_ylabel('number of wine');\n",
    "ax1.set_title('bad wine');\n",
    "\n",
    "ax2.hist(df[df.quality == 1].chlorides, color='orange');\n",
    "ax2.set_xlabel('chlorides');\n",
    "ax2.set_ylabel('nnumber of wine');\n",
    "ax2.set_title('good wine');"
   ]
  },
  {
   "cell_type": "code",
   "execution_count": null,
   "metadata": {
    "id": "3aF-hKF-_Z6I"
   },
   "outputs": [],
   "source": [
    "# Plot histograms for residual_sugar\n",
    "fig, (ax1, ax2) = plt.subplots(2, 1)\n",
    "# make a little extra space between the subplots\n",
    "fig.subplots_adjust(hspace=0.7)\n",
    "\n",
    "ax1.hist(df[df.quality == 0].residual_sugar);\n",
    "ax1.set_xlabel('residual_sugar');\n",
    "ax1.set_ylabel('number of wine');\n",
    "ax1.set_title('bad wine');\n",
    "\n",
    "ax2.hist(df[df.quality == 1].residual_sugar, color='orange');\n",
    "ax2.set_xlabel('residual_sugar');\n",
    "ax2.set_ylabel('nnumber of wine');\n",
    "ax2.set_title('good wine');\n",
    "plt.savefig('partII-residual-sugar.pdf')"
   ]
  },
  {
   "cell_type": "code",
   "execution_count": null,
   "metadata": {
    "id": "BDNRYvjU_bA-"
   },
   "outputs": [],
   "source": [
    "#Plot histograms for citric_acid\n",
    "fig, (ax1, ax2) = plt.subplots(2, 1)\n",
    "# make a little extra space between the subplots\n",
    "fig.subplots_adjust(hspace=0.7)\n",
    "\n",
    "ax1.hist(df[df.quality == 0].citric_acid);\n",
    "ax1.set_xlabel('citric_acid');\n",
    "ax1.set_ylabel('number of wine');\n",
    "ax1.set_title('bad wine');\n",
    "\n",
    "ax2.hist(df[df.quality == 1].citric_acid, color='orange');\n",
    "ax2.set_xlabel('citric_acid');\n",
    "ax2.set_ylabel('nnumber of wine');\n",
    "ax2.set_title('good wine');"
   ]
  },
  {
   "cell_type": "code",
   "execution_count": null,
   "metadata": {
    "id": "5qx7zCoV_gIJ"
   },
   "outputs": [],
   "source": [
    "#Plot histograms for citric_acid\n",
    "fig, (ax1, ax2) = plt.subplots(2, 1)\n",
    "# make a little extra space between the subplots\n",
    "fig.subplots_adjust(hspace=0.7)\n",
    "\n",
    "ax1.hist(df[df.quality == 0].citric_acid);\n",
    "ax1.set_xlabel('citric_acid');\n",
    "ax1.set_ylabel('number of wine');\n",
    "ax1.set_title('bad wine');\n",
    "\n",
    "ax2.hist(df[df.quality == 1].citric_acid, color='orange');\n",
    "ax2.set_xlabel('citric_acid');\n",
    "ax2.set_ylabel('nnumber of wine');\n",
    "ax2.set_title('good wine');"
   ]
  },
  {
   "cell_type": "code",
   "execution_count": null,
   "metadata": {
    "id": "71WOOv2e_ilr"
   },
   "outputs": [],
   "source": [
    "#Plot histograms for volatile_acidity\n",
    "fig, (ax1, ax2) = plt.subplots(2, 1)\n",
    "# make a little extra space between the subplots\n",
    "fig.subplots_adjust(hspace=0.7)\n",
    "\n",
    "ax1.hist(df[df.quality == 0].volatile_acidity);\n",
    "ax1.set_xlabel('volatile_acidity');\n",
    "ax1.set_ylabel('number of wine');\n",
    "ax1.set_title('bad wine');\n",
    "\n",
    "ax2.hist(df[df.quality == 1].volatile_acidity, color='orange');\n",
    "ax2.set_xlabel('volatile_acidity');\n",
    "ax2.set_ylabel('nnumber of wine');\n",
    "ax2.set_title('good wine');"
   ]
  },
  {
   "cell_type": "code",
   "execution_count": null,
   "metadata": {
    "id": "buRlM6fC_jsx"
   },
   "outputs": [],
   "source": [
    "#Plot histograms for volatile_acidity\n",
    "fig, (ax1, ax2) = plt.subplots(2, 1)\n",
    "# make a little extra space between the subplots\n",
    "fig.subplots_adjust(hspace=0.7)\n",
    "\n",
    "ax1.hist(df[df.quality == 0].volatile_acidity);\n",
    "ax1.set_xlabel('volatile_acidity');\n",
    "ax1.set_ylabel('number of wine');\n",
    "ax1.set_title('bad wine');\n",
    "\n",
    "ax2.hist(df[df.quality == 1].volatile_acidity, color='orange');\n",
    "ax2.set_xlabel('volatile_acidity');\n",
    "ax2.set_ylabel('nnumber of wine');\n",
    "ax2.set_title('good wine');"
   ]
  },
  {
   "cell_type": "code",
   "execution_count": null,
   "metadata": {
    "id": "3MADZ3gE_oZE"
   },
   "outputs": [],
   "source": [
    "#Plot histograms for density\n",
    "fig, (ax1, ax2) = plt.subplots(2, 1)\n",
    "# make a little extra space between the subplots\n",
    "fig.subplots_adjust(hspace=0.7)\n",
    "\n",
    "ax1.hist(df[df.quality == 0].density);\n",
    "ax1.set_xlabel('density');\n",
    "ax1.set_ylabel('number of wine');\n",
    "ax1.set_title('bad wine');\n",
    "\n",
    "ax2.hist(df[df.quality == 1].density, color='orange');\n",
    "ax2.set_xlabel('density');\n",
    "ax2.set_ylabel('nnumber of wine');\n",
    "ax2.set_title('good wine');"
   ]
  },
  {
   "cell_type": "markdown",
   "metadata": {
    "id": "OFyXkkVw_sXD"
   },
   "source": [
    "standarized data"
   ]
  },
  {
   "cell_type": "code",
   "execution_count": null,
   "metadata": {
    "id": "G2w5vJEM_tbw"
   },
   "outputs": [],
   "source": [
    "from sklearn.metrics import precision_recall_fscore_support\n",
    "\n",
    "def get_scores(k):\n",
    "  # Use knn on age. First create a nearest neighbors object.\n",
    "  nn = NearestNeighbors(n_neighbors=k, metric='euclidean', algorithm='auto')\n",
    "\n",
    "  # This builds an index data structure under the hood for query performance\n",
    "  X = df[['pH', 'alcohol','residual_sugar']].values\n",
    "  fit = nn.fit(X)\n",
    "\n",
    "  # Get random wines to test on\n",
    "  n = 50\n",
    "  wines = df.sample(n)\n",
    "  winesX = wines[['pH', 'alcohol','residual_sugar']].values\n",
    "  winesy = wines[['quality']].values\n",
    "\n",
    "  # Find the k nearest neighbors to the wine.\n",
    "  distances, indices = fit.kneighbors(winesX)\n",
    "\n",
    "  y_pred = []\n",
    "  for i in range(n):\n",
    "      nbrs = df.iloc[indices[i]]\n",
    "      # Drop the wine of interest\n",
    "      nbrs = nbrs.drop(wines.index[i], errors='ignore')\n",
    "\n",
    "      bad = nbrs[nbrs.quality == 0].count().quality\n",
    "      good = nbrs[nbrs.quality == 1].count().quality\n",
    "      predict = 0 if (good < bad) else 1\n",
    "      y_pred.append(predict)\n",
    "  return precision_recall_fscore_support(winesy, y_pred, labels=[1])\n",
    "\n",
    "kvals = range(2, 50)\n",
    "scores = [get_scores(k) for k in kvals]\n",
    "\n",
    "scores = [(p[0], r[0], f[0], s[0]) for (p,r,f,s) in scores]\n",
    "scores = list(zip(*scores))\n",
    "\n",
    "plt.plot(kvals, scores[2])\n",
    "plt.ylabel('Precison, Recall and F1 scores')\n",
    "plt.xlabel('K values')\n",
    "plt.savefig('partII-kvalues.pdf')"
   ]
  },
  {
   "cell_type": "markdown",
   "metadata": {
    "id": "-kdQOePz_5gI"
   },
   "source": [
    "Split data into train/test and get precision/recall/f score by cross validation, 10 iteration"
   ]
  },
  {
   "cell_type": "code",
   "execution_count": null,
   "metadata": {
    "id": "g0HM1tQB_wMg"
   },
   "outputs": [],
   "source": [
    "from sklearn.model_selection import train_test_split\n",
    "from sklearn.metrics import precision_recall_fscore_support\n",
    "\n",
    "k = 25\n",
    "nn = NearestNeighbors(n_neighbors=k, metric='euclidean', algorithm='auto')\n",
    "\n",
    "X = df[['pH', 'alcohol','residual_sugar']].values\n",
    "y = df[['quality']].values\n",
    "\n",
    "precision = []\n",
    "recall = []\n",
    "f1 = []\n",
    "support = []\n",
    "\n",
    "for _ in range(10):\n",
    "    # Use random_state if you want the same values each time you run for debugging,\n",
    "    # but you should select the split randomly when you're ready to actually train\n",
    "    # and test on the data.\n",
    "    X_train, X_test, y_train, y_test = train_test_split(X, y, test_size=0.25)#, random_state=42)\n",
    "\n",
    "    # This builds an index data structure under the hood for query performance\n",
    "    fit = nn.fit(X_train)\n",
    "\n",
    "    # Find the k nearest neighbors to the patient.\n",
    "    distances, indices = fit.kneighbors(X_test)\n",
    "\n",
    "    y_pred = []\n",
    "    for i in range(len(X_test)):\n",
    "        positive = y_test[i][0]\n",
    "        nbr_values = y_train[indices[i]]\n",
    "        y_pred.append(0 if sum(nbr_values[:,0]) < k/2 else 1)\n",
    "\n",
    "    (p,r,f,s) = precision_recall_fscore_support(y_test, y_pred)\n",
    "\n",
    "    print(p[0],r[0],f[0],s[0])\n",
    "    precision.append(p[0])\n",
    "    recall.append(r[0])\n",
    "    f1.append(f[0])\n",
    "    support.append(s[0])\n",
    "\n",
    "print('mean of f1 scores=',sum(f1)/len(f1))"
   ]
  }
 ],
 "metadata": {
  "colab": {
   "provenance": []
  },
  "kernelspec": {
   "display_name": "Python 3 (ipykernel)",
   "language": "python",
   "name": "python3"
  },
  "language_info": {
   "codemirror_mode": {
    "name": "ipython",
    "version": 3
   },
   "file_extension": ".py",
   "mimetype": "text/x-python",
   "name": "python",
   "nbconvert_exporter": "python",
   "pygments_lexer": "ipython3",
   "version": "3.11.1"
  }
 },
 "nbformat": 4,
 "nbformat_minor": 1
}
