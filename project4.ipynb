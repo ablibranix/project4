{
  "cells": [
    {
      "cell_type": "code",
      "execution_count": null,
      "metadata": {
        "id": "w5mztJHUohBq"
      },
      "outputs": [],
      "source": [
        "import pandas as pd\n",
        "import numpy as np\n",
        "from sklearn.neighbors import NearestNeighbors\n",
        "import random\n",
        "import matplotlib.pyplot as plt"
      ]
    },
    {
      "cell_type": "code",
      "source": [
        "from google.colab import drive\n",
        "drive.mount('/content/drive')"
      ],
      "metadata": {
        "id": "lyUY-1B8pOud"
      },
      "execution_count": null,
      "outputs": []
    },
    {
      "cell_type": "code",
      "source": [
        "%cd \"/content/drive/MyDrive/CS/Project4\"\n",
        "%ls "
      ],
      "metadata": {
        "id": "fJtkdQPupP9m"
      },
      "execution_count": null,
      "outputs": []
    },
    {
      "cell_type": "markdown",
      "source": [
        "# Part I"
      ],
      "metadata": {
        "id": "AaYg7tWbSrMu"
      }
    },
    {
      "cell_type": "code",
      "source": [
        "df = pd.read_csv('cleveland.csv')\n",
        "df"
      ],
      "metadata": {
        "id": "l5aBI4UcqWTP"
      },
      "execution_count": null,
      "outputs": []
    },
    {
      "cell_type": "markdown",
      "metadata": {
        "id": "2HWGiLPVohBs"
      },
      "source": [
        "## k-nearest neighbors\n",
        "\n",
        "This dataset was obtained from https://archive.ics.uci.edu/ml/datasets/Heart+Disease (this is a great resource for datasets to try machine learning on). It has data on patients that are and are not diagnosed with heart disease.\n",
        "\n",
        "The attributes are:\n",
        "* age: age in years \n",
        "* sex: sex (1 = male; 0 = female) \n",
        "* cp: chest pain type \n",
        " * -- Value 1: typical angina \n",
        " * -- Value 2: atypical angina \n",
        " * -- Value 3: non-anginal pain \n",
        " * -- Value 4: asymptomatic \n",
        "* trestbps: resting blood pressure (in mm Hg on admission to the hospital) \n",
        "* chol: serum cholestoral in mg/dl \n",
        "* fbs: (fasting blood sugar > 120 mg/dl) (1 = true; 0 = false) \n",
        "* restecg: resting electrocardiographic results \n",
        " * -- Value 0: normal \n",
        " * -- Value 1: having ST-T wave abnormality (T wave inversions and/or ST elevation or depression of > 0.05 mV) \n",
        " * -- Value 2: showing probable or definite left ventricular hypertrophy by Estes' criteria \n",
        "* thalach: maximum heart rate achieved \n",
        "* exang: exercise induced angina (1 = yes; 0 = no) \n",
        "* oldpeak = ST depression induced by exercise relative to rest \n",
        "* slope: the slope of the peak exercise ST segment \n",
        " * -- Value 1: upsloping \n",
        " * -- Value 2: flat \n",
        " * -- Value 3: downsloping \n",
        "* ca: number of major vessels (0-3) colored by flourosopy \n",
        "* thal: 3 = normal; 6 = fixed defect; 7 = reversable defect \n",
        "* num: diagnosis of heart disease (angiographic disease status) \n",
        " * -- Value 0: absence.\n",
        " * -- Value 1,2,3,4: presence of heart disease\n"
      ]
    },
    {
      "cell_type": "markdown",
      "metadata": {
        "id": "vmHhInH7ohBu"
      },
      "source": [
        "## Explore the data\n",
        "\n",
        "Read in the data, modify the dependent variable name and plot a histogram of the ages of patients, both healthy and those with heart disease."
      ]
    },
    {
      "cell_type": "code",
      "execution_count": null,
      "metadata": {
        "id": "5aCpdrS-ohBv"
      },
      "outputs": [],
      "source": [
        "# Rename 'num' column to 'disease' and change 1,2,3,4 to 1\n",
        "df = df.rename({'num':'disease'}, axis=1)\n",
        "df"
      ]
    },
    {
      "cell_type": "code",
      "execution_count": null,
      "metadata": {
        "id": "Myw6X2JFohBw"
      },
      "outputs": [],
      "source": [
        "df['disease'] = df.disease.apply(lambda x: min(x, 1))\n",
        "display(df.head(5))\n",
        "\n",
        "print(len(df[df['disease']==1]))\n",
        "print(len(df[df['disease']==0]))"
      ]
    },
    {
      "cell_type": "code",
      "source": [
        "# Plot histograms\n",
        "fig, (ax1, ax2) = plt.subplots(2, 1)\n",
        "# make a little extra space between the subplots\n",
        "fig.subplots_adjust(hspace=0.5)\n",
        "\n",
        "ax1.hist(df[df.disease == 0].age);\n",
        "ax1.set_xlabel('age');\n",
        "ax1.set_ylabel('number of patients');\n",
        "ax1.set_xlim(20, 100);\n",
        "ax1.set_ylim(0, 70);\n",
        "ax1.set_title('healthy');\n",
        "\n",
        "ax2.hist(df[df.disease == 1].age, color='orange');\n",
        "ax2.set_xlabel('age');\n",
        "ax2.set_ylabel('number of patients');\n",
        "ax2.set_xlim(20, 100);\n",
        "ax2.set_ylim(0, 70);\n",
        "ax2.set_title('has heart disease');\n",
        "plt.savefig('partI-age.pdf')"
      ],
      "metadata": {
        "id": "dr-H1KmYHGqg"
      },
      "execution_count": null,
      "outputs": []
    },
    {
      "cell_type": "code",
      "execution_count": null,
      "metadata": {
        "id": "MbOuqulSohBx"
      },
      "outputs": [],
      "source": [
        "# Plot histograms\n",
        "fig, (ax1, ax2) = plt.subplots(2, 1)\n",
        "# make a little extra space between the subplots\n",
        "fig.subplots_adjust(hspace=0.5)\n",
        "\n",
        "ax1.hist(df[df.disease == 0].chol);\n",
        "ax1.set_xlabel('chol');\n",
        "ax1.set_ylabel('number of patients');\n",
        "ax1.set_xlim(50, 500);\n",
        "ax1.set_ylim(0, 70);\n",
        "ax1.set_title('healthy');\n",
        "\n",
        "ax2.hist(df[df.disease == 1].chol, color='orange');\n",
        "ax2.set_xlabel('chol');\n",
        "ax2.set_ylabel('number of patients');\n",
        "ax2.set_xlim(50, 500);\n",
        "ax2.set_ylim(0, 70);\n",
        "ax2.set_title('has heart disease');\n",
        "plt.savefig('partI-chol.pdf')"
      ]
    },
    {
      "cell_type": "code",
      "execution_count": null,
      "metadata": {
        "id": "eshpcvdNohBy"
      },
      "outputs": [],
      "source": [
        "# Plot histograms\n",
        "fig, (ax1, ax2) = plt.subplots(2, 1)\n",
        "# make a little extra space between the subplots\n",
        "fig.subplots_adjust(hspace=0.5)\n",
        "\n",
        "ax1.hist(df[df.disease == 0].trestbps);\n",
        "ax1.set_xlabel('trestbps');\n",
        "ax1.set_ylabel('number of patients');\n",
        "ax1.set_xlim(50, 500);\n",
        "ax1.set_ylim(0, 70);\n",
        "ax1.set_title('healthy');\n",
        "\n",
        "ax2.hist(df[df.disease == 1].trestbps, color='orange');\n",
        "ax2.set_xlabel('trestbps');\n",
        "ax2.set_ylabel('number of patients');\n",
        "ax2.set_xlim(50, 500);\n",
        "ax2.set_ylim(0, 70);\n",
        "ax2.set_title('has heart disease');\n",
        "\n",
        "plt.savefig('partI-trestbps.pdf')"
      ]
    },
    {
      "cell_type": "code",
      "execution_count": null,
      "metadata": {
        "id": "aTOIq1bDohBz"
      },
      "outputs": [],
      "source": [
        "# Plot histograms\n",
        "fig, (ax1, ax2) = plt.subplots(2, 1)\n",
        "# make a little extra space between the subplots\n",
        "fig.subplots_adjust(hspace=0.5)\n",
        "\n",
        "ax1.hist(df[df.disease == 0].cp);\n",
        "ax1.set_xlabel('cp');\n",
        "ax1.set_ylabel('number of patients');\n",
        "ax1.set_xlim(0, 5);\n",
        "#ax1.set_ylim(0, 70);\n",
        "ax1.set_title('healthy');\n",
        "\n",
        "ax2.hist(df[df.disease == 1].cp, color='orange');\n",
        "ax2.set_xlabel('cp');\n",
        "ax2.set_ylabel('number of patients');\n",
        "ax2.set_xlim(0, 5);\n",
        "#ax2.set_ylim(0, 70);\n",
        "ax2.set_title('has heart disease');\n"
      ]
    },
    {
      "cell_type": "code",
      "execution_count": null,
      "metadata": {
        "id": "Pler8A6cohB0"
      },
      "outputs": [],
      "source": [
        "# Plot histograms\n",
        "fig, (ax1, ax2) = plt.subplots(2, 1)\n",
        "# make a little extra space between the subplots\n",
        "fig.subplots_adjust(hspace=0.7)\n",
        "\n",
        "ax1.hist(df[df.disease == 0].sex);\n",
        "ax1.set_xlabel('sex');\n",
        "ax1.set_ylabel('number of patients');\n",
        "#ax1.set_xlim(0, 1);\n",
        "ax1.set_ylim(0, 120);\n",
        "ax1.set_title('healthy');\n",
        "\n",
        "ax2.hist(df[df.disease == 1].sex, color='orange');\n",
        "ax2.set_xlabel('sex');\n",
        "ax2.set_ylabel('number of patients');\n",
        "#ax2.set_xlim(0, 1);\n",
        "ax2.set_ylim(0, 120);\n",
        "ax2.set_title('has heart disease');\n",
        "\n",
        "#Used to reduce space between bars\n",
        "plt.xticks([0, 1], ['0', '1'])\n"
      ]
    },
    {
      "cell_type": "code",
      "execution_count": null,
      "metadata": {
        "id": "cZ9nqYthohB1"
      },
      "outputs": [],
      "source": [
        "# Plot histograms\n",
        "fig, (ax1, ax2) = plt.subplots(2, 1)\n",
        "# make a little extra space between the subplots\n",
        "fig.subplots_adjust(hspace=0.5)\n",
        "\n",
        "ax1.hist((df[df.disease == 0].thalach));\n",
        "ax1.set_xlabel('thalach');\n",
        "ax1.set_ylabel('number of patients');\n",
        "#ax1.set_xlim(0, 1);\n",
        "#ax1.set_ylim(0, 70);\n",
        "ax1.set_title('healthy');\n",
        "\n",
        "ax2.hist(df[df.disease == 1].thalach, color='orange');\n",
        "ax2.set_xlabel('thalach');\n",
        "ax2.set_ylabel('number of patients');\n",
        "#ax2.set_xlim(0, 1);\n",
        "#ax2.set_ylim(0, 70);\n",
        "ax2.set_title('has heart disease');\n",
        "plt.savefig('partI-thalach.pdf')"
      ]
    },
    {
      "cell_type": "code",
      "execution_count": null,
      "metadata": {
        "id": "P_GnEnCqohB2"
      },
      "outputs": [],
      "source": [
        "print('The number of people who have heart disease is',len(df[df['disease']==1]),'which is', len(df[df['disease']==1])/len(df), 'percentage of the dataset')\n",
        "print('The number of people without heart disease is',len(df[df['disease']==0]),'which is',len(df[df['disease']==0])/len(df), 'percentage of the dataset')\n",
        "print('Total amount of people is', len(df))"
      ]
    },
    {
      "cell_type": "code",
      "execution_count": null,
      "metadata": {
        "id": "Vtru245hohB2"
      },
      "outputs": [],
      "source": [
        "# Plot histograms\n",
        "fig, (ax1, ax2) = plt.subplots(2, 1)\n",
        "# make a little extra space between the subplots\n",
        "fig.subplots_adjust(hspace=0.5)\n",
        "\n",
        "ax1.hist((df[df.disease == 0].fbs));\n",
        "ax1.set_xlabel('fbs');\n",
        "ax1.set_ylabel('number of patients');\n",
        "#ax1.set_xlim(0, 1);\n",
        "#ax1.set_ylim(0, 70);\n",
        "ax1.set_title('healthy');\n",
        "\n",
        "ax2.hist(df[df.disease == 1].fbs, color='orange');\n",
        "ax2.set_xlabel('fbs');\n",
        "ax2.set_ylabel('number of patients');\n",
        "#ax2.set_xlim(0, 1);\n",
        "#ax2.set_ylim(0, 70);\n",
        "ax2.set_title('has heart disease');\n"
      ]
    },
    {
      "cell_type": "code",
      "execution_count": null,
      "metadata": {
        "id": "ELgqNUisohB3"
      },
      "outputs": [],
      "source": [
        "# Plot histograms\n",
        "fig, (ax1, ax2) = plt.subplots(2, 1)\n",
        "# make a little extra space between the subplots\n",
        "fig.subplots_adjust(hspace=0.5)\n",
        "\n",
        "ax1.hist((df[df.disease == 0].restecg));\n",
        "ax1.set_xlabel('restecg');\n",
        "ax1.set_ylabel('number of patients');\n",
        "#ax1.set_xlim(0, 1);\n",
        "ax1.set_ylim(0, 100);\n",
        "ax1.set_title('healthy');\n",
        "\n",
        "ax2.hist(df[df.disease == 1].restecg, color='orange');\n",
        "ax2.set_xlabel('restecg');\n",
        "ax2.set_ylabel('number of patients');\n",
        "#ax2.set_xlim(0, 1);\n",
        "ax2.set_ylim(0, 100);\n",
        "ax2.set_title('has heart disease');\n"
      ]
    },
    {
      "cell_type": "code",
      "execution_count": null,
      "metadata": {
        "id": "28j1eyy2ohB3"
      },
      "outputs": [],
      "source": [
        "# Plot histograms\n",
        "fig, (ax1, ax2) = plt.subplots(2, 1)\n",
        "# make a little extra space between the subplots\n",
        "fig.subplots_adjust(hspace=0.5)\n",
        "\n",
        "ax1.hist((df[df.disease == 0].exang));\n",
        "ax1.set_xlabel('exang');\n",
        "ax1.set_ylabel('number of patients');\n",
        "#ax1.set_xlim(0, 1);\n",
        "#ax1.set_ylim(0, 110);\n",
        "ax1.set_title('healthy');\n",
        "\n",
        "ax2.hist(df[df.disease == 1].exang, color='orange');\n",
        "ax2.set_xlabel('exang');\n",
        "ax2.set_ylabel('number of patients');\n",
        "#ax2.set_xlim(0, 1);\n",
        "ax2.set_ylim(0, 110);\n",
        "ax2.set_title('has heart disease');\n"
      ]
    },
    {
      "cell_type": "code",
      "execution_count": null,
      "metadata": {
        "id": "XgzeEZM3ohB4"
      },
      "outputs": [],
      "source": [
        "# Plot histograms\n",
        "fig, (ax1, ax2) = plt.subplots(2, 1)\n",
        "# make a little extra space between the subplots\n",
        "fig.subplots_adjust(hspace=0.5)\n",
        "\n",
        "ax1.hist((df[df.disease == 0].oldpeak));\n",
        "ax1.set_xlabel('oldpeak');\n",
        "ax1.set_ylabel('number of patients');\n",
        "#ax1.set_xlim(0, 1);\n",
        "#ax1.set_ylim(0, 110);\n",
        "ax1.set_title('healthy');\n",
        "\n",
        "ax2.hist(df[df.disease == 1].oldpeak, color='orange');\n",
        "ax2.set_xlabel('oldpeak');\n",
        "ax2.set_ylabel('number of patients');\n",
        "#ax2.set_xlim(0, 1);\n",
        "ax2.set_ylim(0, 110);\n",
        "ax2.set_title('has heart disease');\n"
      ]
    },
    {
      "cell_type": "code",
      "execution_count": null,
      "metadata": {
        "id": "xSZ7ipf0ohB4"
      },
      "outputs": [],
      "source": [
        "# Plot histograms\n",
        "fig, (ax1, ax2) = plt.subplots(2, 1)\n",
        "# make a little extra space between the subplots\n",
        "fig.subplots_adjust(hspace=0.5)\n",
        "\n",
        "ax1.hist((df[df.disease == 0].slope));\n",
        "ax1.set_xlabel('slope');\n",
        "ax1.set_ylabel('number of patients');\n",
        "#ax1.set_xlim(0, 1);\n",
        "#ax1.set_ylim(0, 110);\n",
        "ax1.set_title('healthy');\n",
        "\n",
        "ax2.hist(df[df.disease == 1].slope, color='orange');\n",
        "ax2.set_xlabel('slope');\n",
        "ax2.set_ylabel('number of patients');\n",
        "#ax2.set_xlim(0, 1);\n",
        "ax2.set_ylim(0, 110);\n",
        "ax2.set_title('has heart disease');\n"
      ]
    },
    {
      "cell_type": "code",
      "execution_count": null,
      "metadata": {
        "id": "EeusMDODohB5"
      },
      "outputs": [],
      "source": [
        "df=df.dropna()\n",
        "df\n",
        "df[~(df['ca']=='?')]"
      ]
    },
    {
      "cell_type": "code",
      "execution_count": null,
      "metadata": {
        "id": "vkF_jaMPohB5"
      },
      "outputs": [],
      "source": [
        "df['ca'] = df['ca'].str.replace('?', '',regex=True)\n",
        "df=df.dropna()"
      ]
    },
    {
      "cell_type": "code",
      "execution_count": null,
      "metadata": {
        "id": "HCGOs71LohB6"
      },
      "outputs": [],
      "source": [
        "# Plot histograms\n",
        "fig, (ax1, ax2) = plt.subplots(2, 1)\n",
        "# make a little extra space between the subplots\n",
        "fig.subplots_adjust(hspace=0.75)\n",
        "\n",
        "ax1.hist((df[df.disease == 0].ca));\n",
        "ax1.set_xlabel('ca');\n",
        "ax1.set_ylabel('number of patients');\n",
        "#ax1.set_xlim(0, 1);\n",
        "#ax1.set_ylim(0, 110);\n",
        "ax1.set_title('healthy');\n",
        "\n",
        "ax2.hist(df[df.disease == 1].ca, color='orange');\n",
        "ax2.set_xlabel('ca');\n",
        "ax2.set_ylabel('number of patients');\n",
        "#ax2.set_xlim(0, 1);\n",
        "#ax2.set_ylim(0, 110);\n",
        "ax2.set_title('has heart disease');\n"
      ]
    },
    {
      "cell_type": "markdown",
      "metadata": {
        "id": "zBdQ_OFYohB7"
      },
      "source": [
        "## Multiple Dimensions\n",
        "\n",
        "Data is standarized"
      ]
    },
    {
      "cell_type": "code",
      "source": [
        "#standardized variables\n",
        "#df['age_s'] = (df.age-df.age.mean())/df.age.std()\n",
        "#df['chol_s'] = (df.age-df.chol.mean())/df.chol.std()\n",
        "#df['trestbps_s'] = (df.age-df.trestbps_S.mean())/df.trestbps_s.std()\n",
        "df['age'] = (df.age-df.age.mean())/df.age.std()\n",
        "df['chol'] = (df.chol-df.chol.mean())/df.chol.std()\n",
        "df['trestbps'] = (df.trestbps-df.trestbps.mean())/df.trestbps.std()\n",
        "df['thalach'] = (df.thalach-df.thalach.mean())/df.thalach.std()"
      ],
      "metadata": {
        "id": "I6E4ripgBKue"
      },
      "execution_count": null,
      "outputs": []
    },
    {
      "cell_type": "code",
      "source": [
        "# df[['age', 'trestbps']].values\n",
        "X = df[['age', 'trestbps','chol']].values\n",
        "print(X[0])\n",
        "print(X[1])\n",
        "X"
      ],
      "metadata": {
        "id": "8TB7yRP9jF4T"
      },
      "execution_count": null,
      "outputs": []
    },
    {
      "cell_type": "code",
      "source": [
        "y = df[['disease']].values\n",
        "y"
      ],
      "metadata": {
        "id": "qz1lfJIfjUKQ"
      },
      "execution_count": null,
      "outputs": []
    },
    {
      "cell_type": "code",
      "source": [
        "# create a nearest neighbors object.\n",
        "nn = NearestNeighbors(n_neighbors=7, metric='euclidean', algorithm='auto')\n",
        "print(nn)"
      ],
      "metadata": {
        "id": "TNTQ2NKjkd-y"
      },
      "execution_count": null,
      "outputs": []
    },
    {
      "cell_type": "code",
      "source": [
        "# This builds an index data structure under the hood for query performance\n",
        "fit = nn.fit(X)\n",
        "fit"
      ],
      "metadata": {
        "id": "6vZ6LdOQkNr1"
      },
      "execution_count": null,
      "outputs": []
    },
    {
      "cell_type": "code",
      "source": [
        "# Get a random patient to test on\n",
        "i = random.randint(0,len(X)-1)\n",
        "i"
      ],
      "metadata": {
        "id": "Gvixf2wsl0f7"
      },
      "execution_count": null,
      "outputs": []
    },
    {
      "cell_type": "code",
      "source": [
        "# finding the age and trestbps for random i , for first row the i=0, second i=1 , ...\n",
        "patientX = X[i]\n",
        "patientX"
      ],
      "metadata": {
        "id": "2P0gwpRemRle"
      },
      "execution_count": null,
      "outputs": []
    },
    {
      "cell_type": "code",
      "source": [
        "# finding whether the random i row has heart disease or not(0 or 1)\n",
        "patienty = y[i]\n",
        "patienty"
      ],
      "metadata": {
        "id": "1lhVK0mnnUTp"
      },
      "execution_count": null,
      "outputs": []
    },
    {
      "cell_type": "code",
      "source": [
        "# display all variables for rows i in data frame \n",
        "display(df.iloc[i])"
      ],
      "metadata": {
        "id": "L2cvkluBlg2O"
      },
      "execution_count": null,
      "outputs": []
    },
    {
      "cell_type": "code",
      "execution_count": null,
      "metadata": {
        "id": "_cnScUOpohB8",
        "colab": {
          "base_uri": "https://localhost:8080/"
        },
        "outputId": "bb3bd9d3-6c46-4b3a-d594-598e8121f09a"
      },
      "outputs": [
        {
          "output_type": "stream",
          "name": "stdout",
          "text": [
            "distances= [[0.         0.11588175 0.29697409 0.32925024 0.34938849 0.39593285\n",
            "  0.46338588]] indices= [[263 128 134 260 186 255  99]]\n"
          ]
        }
      ],
      "source": [
        "# Find the k nearest neighbors to the patient. Problem: the patient\n",
        "# itself will be found in the list of neighbors!\n",
        "distances, indices = fit.kneighbors([patientX])\n",
        "print('distances=', distances, 'indices=', indices)"
      ]
    },
    {
      "cell_type": "code",
      "source": [
        "df.iloc[indices[0]]"
      ],
      "metadata": {
        "id": "pE8o43XPo6mv"
      },
      "execution_count": null,
      "outputs": []
    },
    {
      "cell_type": "code",
      "source": [
        "nbrs = df.iloc[indices[0]]\n",
        "display(nbrs)"
      ],
      "metadata": {
        "id": "DuNJVpvfpCLI"
      },
      "execution_count": null,
      "outputs": []
    },
    {
      "cell_type": "code",
      "source": [
        "healthy = nbrs[nbrs.disease == 0].count().disease\n",
        "sick = nbrs[nbrs.disease == 1].count().disease\n",
        "print('healthy: {}\\nsick: {}'.format(healthy, sick))"
      ],
      "metadata": {
        "id": "vvDGfLQ4pyIV"
      },
      "execution_count": null,
      "outputs": []
    },
    {
      "cell_type": "code",
      "source": [
        "predict = 0 if (healthy > sick) else 1\n",
        "actual = 0 if (patienty == 0) else 1\n",
        "success = predict == actual\n",
        "print(success)"
      ],
      "metadata": {
        "id": "gZbUWhfxonYy"
      },
      "execution_count": null,
      "outputs": []
    },
    {
      "cell_type": "markdown",
      "metadata": {
        "id": "doHntjdJohB8"
      },
      "source": [
        "## Performing Multiple Tests"
      ]
    },
    {
      "cell_type": "code",
      "source": [
        "X = df[['age', 'trestbps']].values\n",
        "X"
      ],
      "metadata": {
        "id": "eeXOwHlSOQHA"
      },
      "execution_count": null,
      "outputs": []
    },
    {
      "cell_type": "code",
      "source": [
        "y = df[['disease']].values\n",
        "\n",
        "# This builds an index data structure under the hood for query performance\n",
        "fit = nn.fit(X)"
      ],
      "metadata": {
        "id": "K-ejxEZTMumd"
      },
      "execution_count": null,
      "outputs": []
    },
    {
      "cell_type": "code",
      "source": [
        "# Get random patients to test on\n",
        "\n",
        "n = 7\n",
        "pindices = [random.randint(0,len(X)-1) for _ in range(n)]\n",
        "pindices"
      ],
      "metadata": {
        "id": "uvxNg9kMMu_V"
      },
      "execution_count": null,
      "outputs": []
    },
    {
      "cell_type": "code",
      "source": [
        "#X = df[['age', 'trestbps']].values\n",
        "# call row of x, x has two information, age and tresbps\n",
        "patientsX = X[pindices]\n",
        "patientsX"
      ],
      "metadata": {
        "id": "wQBzdvAyMvYK"
      },
      "execution_count": null,
      "outputs": []
    },
    {
      "cell_type": "code",
      "source": [
        "#patientsy contain 0 or 1, having heart dieases or not\n",
        "patientsy = y[pindices]\n",
        "patientsy"
      ],
      "metadata": {
        "id": "iEPWvUFkN7Fo"
      },
      "execution_count": null,
      "outputs": []
    },
    {
      "cell_type": "code",
      "source": [
        "# Find the k nearest neighbors to the patient. Problem: we still\n",
        "# have the problem of the patient itself being found!\n",
        "distances, indices = fit.kneighbors(patientsX)\n",
        "print('indices of k-nearest neighbors for each patient(n=7):')\n",
        "display(indices)"
      ],
      "metadata": {
        "id": "PYkWfhTfPx6U"
      },
      "execution_count": null,
      "outputs": []
    },
    {
      "cell_type": "code",
      "execution_count": null,
      "metadata": {
        "id": "TS831ar6ohB8"
      },
      "outputs": [],
      "source": [
        "#n=7 i=0,1,2,3,4,5,6\n",
        "for i in range(n):\n",
        "    print('nearest neighbors to patient: {}:'.format(patientsX[i]))\n",
        "    nbrs = df.iloc[indices[i]]\n",
        "    display(nbrs)"
      ]
    },
    {
      "cell_type": "markdown",
      "source": [
        "### Finding a good value of k"
      ],
      "metadata": {
        "id": "0N-yuq1vDlV1"
      }
    },
    {
      "cell_type": "code",
      "source": [
        "from sklearn.metrics import precision_recall_fscore_support\n",
        "\n",
        "def get_scores(k):\n",
        "  # Use knn on age. First create a nearest neighbors object.\n",
        "  nn = NearestNeighbors(n_neighbors=k, metric='euclidean', algorithm='auto')\n",
        "\n",
        "  # This builds an index data structure under the hood for query performance\n",
        "  X = df[['age', 'trestbps','chol']].values\n",
        "  fit = nn.fit(X)\n",
        "\n",
        "  # Get random patients to test on\n",
        "  n = 50\n",
        "  patients = df.sample(n)\n",
        "  patientsX = patients[['age','trestbps','chol']].values\n",
        "  patientsy = patients[['disease']].values\n",
        "\n",
        "  # Find the k nearest neighbors to the patient.\n",
        "  distances, indices = fit.kneighbors(patientsX)\n",
        "\n",
        "  y_pred = []\n",
        "  for i in range(n):\n",
        "      nbrs = df.iloc[indices[i]]\n",
        "      # Drop the patient of interest\n",
        "      nbrs = nbrs.drop(patients.index[i], errors='ignore')\n",
        "\n",
        "      healthy = nbrs[nbrs.disease == 0].count().disease\n",
        "      sick = nbrs[nbrs.disease == 1].count().disease\n",
        "      predict = 0 if (healthy > sick) else 1\n",
        "      y_pred.append(predict)\n",
        "  return precision_recall_fscore_support(patientsy, y_pred, labels=[1])\n",
        "\n",
        "kvals = range(2, 50)\n",
        "scores = [get_scores(k) for k in kvals]\n",
        "# print(scores)\n",
        "\n",
        "scores = [(p[0], r[0], f[0], s[0]) for (p,r,f,s) in scores]\n",
        "scores = list(zip(*scores))\n",
        "\n",
        "plt.plot(kvals, scores[2])\n",
        "plt.ylabel('Precison, Recall and F1 scores')\n",
        "plt.xlabel('K values')\n",
        "plt.savefig('partI-kvalues.pdf')"
      ],
      "metadata": {
        "id": "2nuhu9V2DmTS"
      },
      "execution_count": null,
      "outputs": []
    },
    {
      "cell_type": "markdown",
      "metadata": {
        "id": "ipt1VbU4ohB9"
      },
      "source": [
        "## Split data into train/test and get precision/recall/f score by cross validation"
      ]
    },
    {
      "cell_type": "code",
      "source": [
        "#standardized variables\n",
        "df['age'] = (df.age-df.age.mean())/df.age.std()\n",
        "df['chol'] = (df.chol-df.chol.mean())/df.chol.std()\n",
        "df['trestbps'] = (df.trestbps-df.trestbps.mean())/df.trestbps.std()\n",
        "\n",
        "df['thalach'] = (df.thalach-df.thalach.mean())/df.thalach.std()"
      ],
      "metadata": {
        "id": "iiV-t35FNvsQ"
      },
      "execution_count": null,
      "outputs": []
    },
    {
      "cell_type": "code",
      "source": [
        "from sklearn.model_selection import train_test_split\n",
        "from sklearn.metrics import precision_recall_fscore_support\n",
        "\n",
        "k = 23\n",
        "nn = NearestNeighbors(n_neighbors=k, metric='euclidean', algorithm='auto')\n",
        "\n",
        "X = df[['age', 'trestbps', 'thalach', 'chol']].values\n",
        "y = df[['disease']].values\n",
        "\n",
        "precision = []\n",
        "recall = []\n",
        "f1 = []\n",
        "support = []\n",
        "\n",
        "for _ in range(20):\n",
        "    # Use random_state if you want the same values each time you run for debugging,\n",
        "    # but you should select the split randomly when you're ready to actually train\n",
        "    # and test on the data.\n",
        "    X_train, X_test, y_train, y_test = train_test_split(X, y, test_size=0.25)#, random_state=42)\n",
        "\n",
        "    # This builds an index data structure under the hood for query performance\n",
        "    fit = nn.fit(X_train)\n",
        "\n",
        "    # Find the k nearest neighbors to the patient.\n",
        "    distances, indices = fit.kneighbors(X_test)\n",
        "\n",
        "    y_pred = []\n",
        "    for i in range(len(X_test)):\n",
        "        positive = y_test[i][0]\n",
        "        nbr_values = y_train[indices[i]]\n",
        "        y_pred.append(0 if sum(nbr_values[:,0]) < k/2 else 1)\n",
        "\n",
        "    (p,r,f,s) = precision_recall_fscore_support(y_test, y_pred)\n",
        "\n",
        "    print(p[0],r[0],f[0],s[0])\n",
        "    precision.append(p[0])\n",
        "    recall.append(r[0])\n",
        "    f1.append(f[0])\n",
        "    support.append(s[0])\n",
        "\n",
        "print('mean of f1 scores=',sum(f1)/len(f1))"
      ],
      "metadata": {
        "id": "NkKHN7AnJqJy"
      },
      "execution_count": null,
      "outputs": []
    },
    {
      "cell_type": "markdown",
      "source": [
        "# Part II"
      ],
      "metadata": {
        "id": "I2LW2W9rP6kO"
      }
    },
    {
      "cell_type": "code",
      "source": [
        "df = pd.read_csv('winequality-red.csv')\n",
        "df"
      ],
      "metadata": {
        "id": "C55c9XCqTKo_"
      },
      "execution_count": null,
      "outputs": []
    },
    {
      "cell_type": "code",
      "source": [
        "df['quality'] = (df['quality'] > 5).astype(int)\n",
        "display(df.head(10))"
      ],
      "metadata": {
        "id": "pz0nDMTrcInN"
      },
      "execution_count": null,
      "outputs": []
    },
    {
      "cell_type": "code",
      "source": [
        "print('quality level of 6 7 8 =',len(df[df['quality']==1]))\n",
        "print('quality level of 1 2 3 4 5 =',len(df[df['quality']==0]))"
      ],
      "metadata": {
        "id": "IXiiALIh_Bjb"
      },
      "execution_count": null,
      "outputs": []
    },
    {
      "cell_type": "markdown",
      "source": [
        "Explore the data"
      ],
      "metadata": {
        "id": "ZPiPIuzj_Jux"
      }
    },
    {
      "cell_type": "code",
      "source": [
        "#Rename  column \n",
        "\n",
        "df = df.rename({'fixed acidity':'fixed_acidity','volatile acidity':'volatile_acidity','citric acid':'citric_acid','residual sugar':'residual_sugar','free sulfur dioxide':'free_sulfur_dioxide','total sulfur dioxide':'total_sulfur_dioxide'}, axis=1)\n",
        "df.head()"
      ],
      "metadata": {
        "id": "4tevE_x9_IPf"
      },
      "execution_count": null,
      "outputs": []
    },
    {
      "cell_type": "code",
      "source": [
        "# Plot histograms for PH\n",
        "fig, (ax1, ax2) = plt.subplots(2, 1)\n",
        "# make a little extra space between the subplots\n",
        "fig.subplots_adjust(hspace=0.7)\n",
        "\n",
        "ax1.hist(df[df.quality == 0].pH);\n",
        "ax1.set_xlabel('pH');\n",
        "ax1.set_ylabel('number of wine');\n",
        "#ax1.set_xlim(20, 80);\n",
        "#ax1.set_ylim(0, 50);\n",
        "ax1.set_title('bad wine');\n",
        "\n",
        "ax2.hist(df[df.quality == 1].pH, color='orange');\n",
        "ax2.set_xlabel('pH');\n",
        "ax2.set_ylabel('nnumber of wine');\n",
        "#ax2.set_xlim(20, 80);\n",
        "#ax2.set_ylim(0, 50);\n",
        "ax2.set_title('good wine');\n",
        "plt.savefig('partII-pH.pdf')"
      ],
      "metadata": {
        "id": "7ldkHZk0_Q1R"
      },
      "execution_count": null,
      "outputs": []
    },
    {
      "cell_type": "code",
      "source": [
        "# Plot histograms for alcohol\n",
        "fig, (ax1, ax2) = plt.subplots(2, 1)\n",
        "# make a little extra space between the subplots\n",
        "fig.subplots_adjust(hspace=0.7)\n",
        "\n",
        "ax1.hist(df[df.quality == 0].alcohol);\n",
        "ax1.set_xlabel('alcohol');\n",
        "ax1.set_ylabel('number of wine');\n",
        "#ax1.set_xlim(20, 80);\n",
        "#ax1.set_ylim(0, 50);\n",
        "ax1.set_title('bad wine');\n",
        "\n",
        "ax2.hist(df[df.quality == 1].alcohol, color='orange');\n",
        "ax2.set_xlabel('alcohol');\n",
        "ax2.set_ylabel('nnumber of wine');\n",
        "#ax2.set_xlim(20, 80);\n",
        "#ax2.set_ylim(0, 50);\n",
        "ax2.set_title('good wine');\n",
        "plt.savefig('partII-alcohol.pdf')"
      ],
      "metadata": {
        "id": "YdLGarqZ_VC3"
      },
      "execution_count": null,
      "outputs": []
    },
    {
      "cell_type": "code",
      "source": [
        "# Plot histograms for chlorides\n",
        "fig, (ax1, ax2) = plt.subplots(2, 1)\n",
        "# make a little extra space between the subplots\n",
        "fig.subplots_adjust(hspace=0.7)\n",
        "\n",
        "ax1.hist(df[df.quality == 0].chlorides);\n",
        "ax1.set_xlabel('chlorides');\n",
        "ax1.set_ylabel('number of wine');\n",
        "#ax1.set_xlim(20, 80);\n",
        "#ax1.set_ylim(0, 50);\n",
        "ax1.set_title('bad wine');\n",
        "\n",
        "ax2.hist(df[df.quality == 1].chlorides, color='orange');\n",
        "ax2.set_xlabel('chlorides');\n",
        "ax2.set_ylabel('nnumber of wine');\n",
        "#ax2.set_xlim(20, 80);\n",
        "#ax2.set_ylim(0, 50);\n",
        "ax2.set_title('good wine');"
      ],
      "metadata": {
        "id": "SpFT7URx_XaA"
      },
      "execution_count": null,
      "outputs": []
    },
    {
      "cell_type": "code",
      "source": [
        "# Plot histograms for residual_sugar\n",
        "fig, (ax1, ax2) = plt.subplots(2, 1)\n",
        "# make a little extra space between the subplots\n",
        "fig.subplots_adjust(hspace=0.7)\n",
        "\n",
        "ax1.hist(df[df.quality == 0].residual_sugar);\n",
        "ax1.set_xlabel('residual_sugar');\n",
        "ax1.set_ylabel('number of wine');\n",
        "#ax1.set_xlim(20, 80);\n",
        "#ax1.set_ylim(0, 50);\n",
        "ax1.set_title('bad wine');\n",
        "\n",
        "ax2.hist(df[df.quality == 1].residual_sugar, color='orange');\n",
        "ax2.set_xlabel('residual_sugar');\n",
        "ax2.set_ylabel('nnumber of wine');\n",
        "#ax2.set_xlim(20, 80);\n",
        "#ax2.set_ylim(0, 50);\n",
        "ax2.set_title('good wine');\n",
        "plt.savefig('partII-residual-sugar.pdf')"
      ],
      "metadata": {
        "id": "3aF-hKF-_Z6I"
      },
      "execution_count": null,
      "outputs": []
    },
    {
      "cell_type": "code",
      "source": [
        "#Plot histograms for citric_acid\n",
        "fig, (ax1, ax2) = plt.subplots(2, 1)\n",
        "# make a little extra space between the subplots\n",
        "fig.subplots_adjust(hspace=0.7)\n",
        "\n",
        "ax1.hist(df[df.quality == 0].citric_acid);\n",
        "ax1.set_xlabel('citric_acid');\n",
        "ax1.set_ylabel('number of wine');\n",
        "#ax1.set_xlim(20, 80);\n",
        "#ax1.set_ylim(0, 50);\n",
        "ax1.set_title('bad wine');\n",
        "\n",
        "ax2.hist(df[df.quality == 1].citric_acid, color='orange');\n",
        "ax2.set_xlabel('citric_acid');\n",
        "ax2.set_ylabel('nnumber of wine');\n",
        "#ax2.set_xlim(20, 80);\n",
        "#ax2.set_ylim(0, 50);\n",
        "ax2.set_title('good wine');"
      ],
      "metadata": {
        "id": "BDNRYvjU_bA-"
      },
      "execution_count": null,
      "outputs": []
    },
    {
      "cell_type": "code",
      "source": [
        "#Plot histograms for citric_acid\n",
        "fig, (ax1, ax2) = plt.subplots(2, 1)\n",
        "# make a little extra space between the subplots\n",
        "fig.subplots_adjust(hspace=0.7)\n",
        "\n",
        "ax1.hist(df[df.quality == 0].citric_acid);\n",
        "ax1.set_xlabel('citric_acid');\n",
        "ax1.set_ylabel('number of wine');\n",
        "#ax1.set_xlim(20, 80);\n",
        "#ax1.set_ylim(0, 50);\n",
        "ax1.set_title('bad wine');\n",
        "\n",
        "ax2.hist(df[df.quality == 1].citric_acid, color='orange');\n",
        "ax2.set_xlabel('citric_acid');\n",
        "ax2.set_ylabel('nnumber of wine');\n",
        "#ax2.set_xlim(20, 80);\n",
        "#ax2.set_ylim(0, 50);\n",
        "ax2.set_title('good wine');"
      ],
      "metadata": {
        "id": "5qx7zCoV_gIJ"
      },
      "execution_count": null,
      "outputs": []
    },
    {
      "cell_type": "code",
      "source": [
        "#Plot histograms for volatile_acidity\n",
        "fig, (ax1, ax2) = plt.subplots(2, 1)\n",
        "# make a little extra space between the subplots\n",
        "fig.subplots_adjust(hspace=0.7)\n",
        "\n",
        "ax1.hist(df[df.quality == 0].volatile_acidity);\n",
        "ax1.set_xlabel('volatile_acidity');\n",
        "ax1.set_ylabel('number of wine');\n",
        "#ax1.set_xlim(20, 80);\n",
        "#ax1.set_ylim(0, 50);\n",
        "ax1.set_title('bad wine');\n",
        "\n",
        "ax2.hist(df[df.quality == 1].volatile_acidity, color='orange');\n",
        "ax2.set_xlabel('volatile_acidity');\n",
        "ax2.set_ylabel('nnumber of wine');\n",
        "#ax2.set_xlim(20, 80);\n",
        "#ax2.set_ylim(0, 50);\n",
        "ax2.set_title('good wine');"
      ],
      "metadata": {
        "id": "71WOOv2e_ilr"
      },
      "execution_count": null,
      "outputs": []
    },
    {
      "cell_type": "code",
      "source": [
        "#Plot histograms for volatile_acidity\n",
        "fig, (ax1, ax2) = plt.subplots(2, 1)\n",
        "# make a little extra space between the subplots\n",
        "fig.subplots_adjust(hspace=0.7)\n",
        "\n",
        "ax1.hist(df[df.quality == 0].volatile_acidity);\n",
        "ax1.set_xlabel('volatile_acidity');\n",
        "ax1.set_ylabel('number of wine');\n",
        "#ax1.set_xlim(20, 80);\n",
        "#ax1.set_ylim(0, 50);\n",
        "ax1.set_title('bad wine');\n",
        "\n",
        "ax2.hist(df[df.quality == 1].volatile_acidity, color='orange');\n",
        "ax2.set_xlabel('volatile_acidity');\n",
        "ax2.set_ylabel('nnumber of wine');\n",
        "#ax2.set_xlim(20, 80);\n",
        "#ax2.set_ylim(0, 50);\n",
        "ax2.set_title('good wine');"
      ],
      "metadata": {
        "id": "buRlM6fC_jsx"
      },
      "execution_count": null,
      "outputs": []
    },
    {
      "cell_type": "code",
      "source": [
        "#Plot histograms for density\n",
        "fig, (ax1, ax2) = plt.subplots(2, 1)\n",
        "# make a little extra space between the subplots\n",
        "fig.subplots_adjust(hspace=0.7)\n",
        "\n",
        "ax1.hist(df[df.quality == 0].density);\n",
        "ax1.set_xlabel('density');\n",
        "ax1.set_ylabel('number of wine');\n",
        "#ax1.set_xlim(20, 80);\n",
        "#ax1.set_ylim(0, 50);\n",
        "ax1.set_title('bad wine');\n",
        "\n",
        "ax2.hist(df[df.quality == 1].density, color='orange');\n",
        "ax2.set_xlabel('density');\n",
        "ax2.set_ylabel('nnumber of wine');\n",
        "#ax2.set_xlim(20, 80);\n",
        "#ax2.set_ylim(0, 50);\n",
        "ax2.set_title('good wine');"
      ],
      "metadata": {
        "id": "3MADZ3gE_oZE"
      },
      "execution_count": null,
      "outputs": []
    },
    {
      "cell_type": "markdown",
      "source": [
        "## standarized data"
      ],
      "metadata": {
        "id": "OFyXkkVw_sXD"
      }
    },
    {
      "cell_type": "code",
      "source": [
        "df['pH'] = (df.pH-df.pH.mean())/df.pH.std()\n",
        "df['alcohol'] = (df.alcohol-df.alcohol.mean())/df.alcohol.std()\n",
        "df['residual_sugar'] = (df.residual_sugar-df.residual_sugar.mean())/df.residual_sugar.std()"
      ],
      "metadata": {
        "id": "PDtzXYG_cj6r"
      },
      "execution_count": null,
      "outputs": []
    },
    {
      "cell_type": "markdown",
      "source": [
        "## Finding a good value of k"
      ],
      "metadata": {
        "id": "994jbdq7cln9"
      }
    },
    {
      "cell_type": "code",
      "source": [
        "from sklearn.metrics import precision_recall_fscore_support\n",
        "\n",
        "def get_scores(k):\n",
        "  # Use knn on age. First create a nearest neighbors object.\n",
        "  nn = NearestNeighbors(n_neighbors=k, metric='euclidean', algorithm='auto')\n",
        "\n",
        "  # This builds an index data structure under the hood for query performance\n",
        "  X = df[['pH', 'alcohol','residual_sugar']].values\n",
        "  fit = nn.fit(X)\n",
        "\n",
        "  # Get random patients to test on\n",
        "  n = 50\n",
        "  wines = df.sample(n)\n",
        "  winesX = wines[['pH', 'alcohol','residual_sugar']].values\n",
        "  winesy = wines[['quality']].values\n",
        "\n",
        "  # Find the k nearest neighbors to the patient.\n",
        "  distances, indices = fit.kneighbors(winesX)\n",
        "\n",
        "  y_pred = []\n",
        "  for i in range(n):\n",
        "      nbrs = df.iloc[indices[i]]\n",
        "      # Drop the patient of interest\n",
        "      nbrs = nbrs.drop(wines.index[i], errors='ignore')\n",
        "\n",
        "      bad = nbrs[nbrs.quality == 0].count().quality\n",
        "      good = nbrs[nbrs.quality == 1].count().quality\n",
        "      predict = 0 if (good < bad) else 1\n",
        "      y_pred.append(predict)\n",
        "  return precision_recall_fscore_support(winesy, y_pred, labels=[1])\n",
        "\n",
        "kvals = range(2, 50)\n",
        "scores = [get_scores(k) for k in kvals]\n",
        "# print(scores)\n",
        "\n",
        "scores = [(p[0], r[0], f[0], s[0]) for (p,r,f,s) in scores]\n",
        "scores = list(zip(*scores))\n",
        "\n",
        "plt.plot(kvals, scores[2])\n",
        "plt.ylabel('Precison, Recall and F1 scores')\n",
        "plt.xlabel('K values')\n",
        "plt.savefig('partII-kvalues.pdf')"
      ],
      "metadata": {
        "id": "G2w5vJEM_tbw"
      },
      "execution_count": null,
      "outputs": []
    },
    {
      "cell_type": "markdown",
      "source": [],
      "metadata": {
        "id": "Z6JFOLtV_zuz"
      }
    },
    {
      "cell_type": "markdown",
      "source": [
        "Split data into train/test and get precision/recall/f score by cross validation, 10 iteration"
      ],
      "metadata": {
        "id": "-kdQOePz_5gI"
      }
    },
    {
      "cell_type": "code",
      "source": [
        "from sklearn.model_selection import train_test_split\n",
        "from sklearn.metrics import precision_recall_fscore_support\n",
        "\n",
        "k = 25\n",
        "nn = NearestNeighbors(n_neighbors=k, metric='euclidean', algorithm='auto')\n",
        "\n",
        "X = df[['pH', 'alcohol','residual_sugar']].values\n",
        "y = df[['quality']].values\n",
        "\n",
        "precision = []\n",
        "recall = []\n",
        "f1 = []\n",
        "support = []\n",
        "\n",
        "for _ in range(10):\n",
        "    # Use random_state if you want the same values each time you run for debugging,\n",
        "    # but you should select the split randomly when you're ready to actually train\n",
        "    # and test on the data.\n",
        "    X_train, X_test, y_train, y_test = train_test_split(X, y, test_size=0.25)#, random_state=42)\n",
        "\n",
        "    # This builds an index data structure under the hood for query performance\n",
        "    fit = nn.fit(X_train)\n",
        "\n",
        "    # Find the k nearest neighbors to the patient.\n",
        "    distances, indices = fit.kneighbors(X_test)\n",
        "\n",
        "    y_pred = []\n",
        "    for i in range(len(X_test)):\n",
        "        positive = y_test[i][0]\n",
        "        nbr_values = y_train[indices[i]]\n",
        "        y_pred.append(0 if sum(nbr_values[:,0]) < k/2 else 1)\n",
        "\n",
        "    (p,r,f,s) = precision_recall_fscore_support(y_test, y_pred)\n",
        "\n",
        "    print(p[0],r[0],f[0],s[0])\n",
        "    precision.append(p[0])\n",
        "    recall.append(r[0])\n",
        "    f1.append(f[0])\n",
        "    support.append(s[0])\n",
        "\n",
        "print('mean of f1 scores=',sum(f1)/len(f1))"
      ],
      "metadata": {
        "id": "g0HM1tQB_wMg"
      },
      "execution_count": null,
      "outputs": []
    }
  ],
  "metadata": {
    "kernelspec": {
      "display_name": "Python 3 (ipykernel)",
      "language": "python",
      "name": "python3"
    },
    "language_info": {
      "codemirror_mode": {
        "name": "ipython",
        "version": 3
      },
      "file_extension": ".py",
      "mimetype": "text/x-python",
      "name": "python",
      "nbconvert_exporter": "python",
      "pygments_lexer": "ipython3",
      "version": "3.9.1"
    },
    "colab": {
      "provenance": []
    }
  },
  "nbformat": 4,
  "nbformat_minor": 0
}